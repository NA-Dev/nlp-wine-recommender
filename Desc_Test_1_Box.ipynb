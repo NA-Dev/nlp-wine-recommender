{
 "cells": [
  {
   "cell_type": "code",
   "execution_count": 110,
   "metadata": {},
   "outputs": [],
   "source": [
    "# Import Libraries\n",
    "import csv\n",
    "import pandas as pd \n",
    "import numpy as np\n",
    "import nltk\n",
    "import os\n",
    "import nltk.corpus\n",
    "from nltk.tokenize import word_tokenize\n",
    "from nltk.probability import FreqDist\n",
    "from nltk.stem import PorterStemmer\n",
    "from nltk.stem import WordNetLemmatizer\n",
    "\n",
    "# Import dataset\n",
    "data = pd.read_csv('Wine V2.csv')"
   ]
  },
  {
   "cell_type": "code",
   "execution_count": 111,
   "metadata": {},
   "outputs": [],
   "source": [
    "# Only take the first 5 to test out text mining.\n",
    "data = data.head(5)"
   ]
  },
  {
   "cell_type": "code",
   "execution_count": 112,
   "metadata": {},
   "outputs": [
    {
     "name": "stdout",
     "output_type": "stream",
     "text": [
      "0    Aromas include tropical fruit, broom, brimston...\n",
      "1    This is ripe and fruity, a wine that is smooth...\n",
      "2    Tart and snappy, the flavors of lime flesh and...\n",
      "3    Pineapple rind, lemon pith and orange blossom ...\n",
      "4    Much like the regular bottling from 2012, this...\n",
      "Name: description, dtype: object\n"
     ]
    },
    {
     "data": {
      "text/plain": [
       "\"Much like the regular bottling from 2012, this comes across as rather rough and tannic, with rustic, earthy, herbal characteristics. Nonetheless, if you think of it as a pleasantly unfussy country wine, it's a good companion to a hearty winter stew.\""
      ]
     },
     "execution_count": 112,
     "metadata": {},
     "output_type": "execute_result"
    }
   ],
   "source": [
    "# Identify a single column\n",
    "print(data['description'])\n",
    "\n",
    "# Print individual entries. \n",
    "data['description'][0]\n",
    "data['description'][1]\n",
    "data['description'][2]\n",
    "data['description'][3]\n",
    "data['description'][4]"
   ]
  },
  {
   "cell_type": "code",
   "execution_count": 113,
   "metadata": {},
   "outputs": [],
   "source": [
    "# Break up the sentences into lists of individual words\n",
    "text = data['description'][4]\n",
    "textTokenized = word_tokenize(text.lower())"
   ]
  },
  {
   "cell_type": "code",
   "execution_count": 114,
   "metadata": {},
   "outputs": [
    {
     "name": "stdout",
     "output_type": "stream",
     "text": [
      "====================================\n",
      "All Words:\n",
      "['much', 'like', 'the', 'regular', 'bottling', 'from', '2012', ',', 'this', 'comes', 'across', 'as', 'rather', 'rough', 'and', 'tannic', ',', 'with', 'rustic', ',', 'earthy', ',', 'herbal', 'characteristics', '.', 'nonetheless', ',', 'if', 'you', 'think', 'of', 'it', 'as', 'a', 'pleasantly', 'unfussy', 'country', 'wine', ',', 'it', \"'s\", 'a', 'good', 'companion', 'to', 'a', 'hearty', 'winter', 'stew', '.']\n",
      "====================================\n",
      "No Stop Words:\n",
      "['much', 'like', 'regular', 'bottling', '2012', ',', 'comes', 'across', 'rather', 'rough', 'tannic', ',', 'rustic', ',', 'earthy', ',', 'herbal', 'characteristics', '.', 'nonetheless', ',', 'think', 'pleasantly', 'unfussy', 'country', 'wine', ',', \"'s\", 'good', 'companion', 'hearty', 'winter', 'stew', '.']\n",
      "====================================\n"
     ]
    }
   ],
   "source": [
    "# Stop Words (i.e. clearing the clutter)\n",
    "from nltk.corpus import stopwords\n",
    "a = set(stopwords.words(\"english\"))\n",
    "print(\"====================================\\nAll Words:\")\n",
    "print(textTokenized)\n",
    "print(\"====================================\\nNo Stop Words:\")\n",
    "stopwords = [x for x in textTokenized if x not in a]\n",
    "print(stopwords)\n",
    "print(\"====================================\")"
   ]
  },
  {
   "cell_type": "code",
   "execution_count": 117,
   "metadata": {},
   "outputs": [
    {
     "data": {
      "text/plain": [
       "['rough',\n",
       " 'tannic',\n",
       " 'earthy',\n",
       " 'herbal',\n",
       " 'think',\n",
       " 'country',\n",
       " 'wine',\n",
       " 'companion',\n",
       " 'hearty',\n",
       " 'winter',\n",
       " 'stew']"
      ]
     },
     "execution_count": 117,
     "metadata": {},
     "output_type": "execute_result"
    }
   ],
   "source": [
    "# Part-of-Speech Tagging\n",
    "# Definitions: https://www.guru99.com/pos-tagging-chunking-nltk.html\n",
    "# NN is the main part of speech we want to keep here. Everything else can go. \n",
    "# - NN = singular\n",
    "\n",
    "words = []\n",
    "for token in stopwords:\n",
    "    words.append(nltk.pos_tag([token]))\n",
    "\n",
    "final_set = []\n",
    "for tag in range(len(wordsBoiledDown)):\n",
    "    if words[tag][0][1] == 'NN':\n",
    "        final_set.append(words[tag][0][0])\n",
    "\n",
    "final_set"
   ]
  },
  {
   "cell_type": "code",
   "execution_count": null,
   "metadata": {},
   "outputs": [],
   "source": []
  }
 ],
 "metadata": {
  "kernelspec": {
   "display_name": "Python 3",
   "language": "python",
   "name": "python3"
  },
  "language_info": {
   "codemirror_mode": {
    "name": "ipython",
    "version": 3
   },
   "file_extension": ".py",
   "mimetype": "text/x-python",
   "name": "python",
   "nbconvert_exporter": "python",
   "pygments_lexer": "ipython3",
   "version": "3.8.5"
  }
 },
 "nbformat": 4,
 "nbformat_minor": 4
}
