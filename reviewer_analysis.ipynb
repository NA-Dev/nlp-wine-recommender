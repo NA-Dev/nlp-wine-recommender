{
 "cells": [
  {
   "cell_type": "markdown",
   "metadata": {},
   "source": [
    "# Analysis of Wine Reviewers\n",
    "\n",
    "### Goal\n",
    "\n",
    "The goal of this portion of the project is to query our data to analyze the reviewers who contributed to our data set. At the end, we want to be able to pass in a reviewer and see a summary of important information pertaining to that individual.\n",
    "\n",
    "### Key Metrics\n",
    "\n",
    "We established a set of key metrics that we want to calculate for each reviewer. Each metric is listed below.\n",
    "\n",
    "1. Twitter Handle\n",
    "2. Number of reviews \n",
    "3. Average Score\n",
    "4. Highest Score\n",
    "5. Lowest Score\n",
    "6. Perfect Score Rate\n",
    "7. Diversity\n",
    "8. Word Usage\n",
    "9. Status\n",
    "10. Scoring Style\n",
    "\n"
   ]
  },
  {
   "cell_type": "markdown",
   "metadata": {},
   "source": [
    "### Analysis Setup\n",
    "\n",
    "First, we must import the required packages and load in our data."
   ]
  },
  {
   "cell_type": "code",
   "execution_count": 2,
   "metadata": {},
   "outputs": [],
   "source": [
    "# Import the packages we will use\n",
    "import numpy as np\n",
    "import pandas as pd"
   ]
  },
  {
   "cell_type": "code",
   "execution_count": 3,
   "metadata": {},
   "outputs": [],
   "source": [
    "# Read in our data\n",
    "df = pd.read_csv('wine.csv',index_col=False)"
   ]
  },
  {
   "cell_type": "code",
   "execution_count": 4,
   "metadata": {},
   "outputs": [
    {
     "name": "stdout",
     "output_type": "stream",
     "text": [
      "['Paul Gregutt' 'Michael Schachner' 'Roger Voss' 'Lauren Buzzeo'\n",
      " 'Joe Czerwinski' 'Anne Krebiehl\\xa0MW' 'Kerin O’Keefe' 'Virginie Boone'\n",
      " 'Anna Lee C. Iijima' 'Jim Gordon' 'Sean P. Sullivan' 'Matt Kettmann'\n",
      " 'Jeff Jenssen' 'Susan Kostrzewa' 'Mike DeSimone' 'Christina Pickard'\n",
      " 'Carrie Dykes' 'Fiona Adams' 'Alexander Peartree']\n"
     ]
    }
   ],
   "source": [
    "# Get a list of reviewers present in our data\n",
    "# We will refer back to this list when computing our metrics\n",
    "reviewers = df['taster_name'].unique()\n",
    "print(reviewers)"
   ]
  },
  {
   "cell_type": "markdown",
   "metadata": {},
   "source": [
    "### Defining Metrics\n",
    "\n",
    "Each metric needs to be calculated by querying our data set. For each metric, we will create a function so that we can quickly gather the information for each reviewer."
   ]
  },
  {
   "cell_type": "markdown",
   "metadata": {},
   "source": [
    "#### Get twitter handle"
   ]
  },
  {
   "cell_type": "code",
   "execution_count": 5,
   "metadata": {},
   "outputs": [],
   "source": [
    "def get_twitter(taster_name):\n",
    "    # For the reviewer, find the twitter handle associated with them in the data frame\n",
    "    handle = df.loc[df['taster_name'] == taster_name, 'taster_twitter_handle'].unique()[0]\n",
    "    # Some reviewers do not have a twitter so we need to accoutn for that\n",
    "    if pd.isnull(handle):\n",
    "        return \"Does not have a twitter\"\n",
    "    # If they do have a twitter, return the handle\n",
    "    else:\n",
    "        return handle"
   ]
  },
  {
   "cell_type": "markdown",
   "metadata": {},
   "source": [
    "#### Find Number of Reviews"
   ]
  },
  {
   "cell_type": "code",
   "execution_count": 6,
   "metadata": {},
   "outputs": [],
   "source": [
    "def num_reviews(taster_name):\n",
    "    # Count how mant times the reviewer appears in our data frame\n",
    "    return len(df.loc[df['taster_name'] == taster_name, 'taster_name'])"
   ]
  },
  {
   "cell_type": "markdown",
   "metadata": {},
   "source": [
    "#### Find Average Score of Reviews"
   ]
  },
  {
   "cell_type": "code",
   "execution_count": 7,
   "metadata": {},
   "outputs": [],
   "source": [
    "def avg_score(taster_name):\n",
    "    # Calculate how many reviews the reviewer has done\n",
    "    reviews = num_reviews(taster_name)\n",
    "    # Calculate the total number of points they've given out\n",
    "    total_score = df.loc[df['taster_name'] == taster_name, 'points'].sum()\n",
    "    # Calculate the average score\n",
    "    average_score = round(total_score / reviews, 2)\n",
    "    return average_score"
   ]
  },
  {
   "cell_type": "markdown",
   "metadata": {},
   "source": [
    "#### Find Highest Score of Reviewer"
   ]
  },
  {
   "cell_type": "code",
   "execution_count": 8,
   "metadata": {},
   "outputs": [],
   "source": [
    "def high_score(taster_name):\n",
    "    # Use .max() to find the highest review given by the reviewer\n",
    "    high = df.loc[df['taster_name'] == taster_name, 'points'].max()\n",
    "    return high"
   ]
  },
  {
   "cell_type": "markdown",
   "metadata": {},
   "source": [
    "#### Find Lowest Score of Reviewer"
   ]
  },
  {
   "cell_type": "code",
   "execution_count": 9,
   "metadata": {},
   "outputs": [],
   "source": [
    "def low_score(taster_name):\n",
    "    # Use .min() to find the highest review given by the reviewer\n",
    "    low = df.loc[df['taster_name'] == taster_name, 'points'].min()\n",
    "    return low"
   ]
  },
  {
   "cell_type": "markdown",
   "metadata": {},
   "source": [
    "#### Calculate Perfect Score Rate"
   ]
  },
  {
   "cell_type": "code",
   "execution_count": 10,
   "metadata": {},
   "outputs": [],
   "source": [
    "def perf_score_rate(taster_name):\n",
    "    # Find how many times the reviewer gave a wine a score of 100\n",
    "    num_100 = len(df.loc[np.logical_and(df['taster_name'] == taster_name, df['points'] == 100)])\n",
    "    # Calculate the number of reviews done by the reviewer\n",
    "    rate = num_100 / num_reviews(taster_name)\n",
    "    return round(rate,6)*100"
   ]
  },
  {
   "cell_type": "markdown",
   "metadata": {},
   "source": [
    "#### Calculate the Diversity Metric"
   ]
  },
  {
   "cell_type": "code",
   "execution_count": 11,
   "metadata": {},
   "outputs": [],
   "source": [
    "# Get a data frame of wine producing countries\n",
    "wine_countries = pd.read_html('https://worldpopulationreview.com/country-rankings/wine-producing-countries')[0]\n",
    "\n",
    "# Find out how many countries produce wine\n",
    "total_countries = len(wine_countries)\n",
    "\n",
    "def diversity_score(taster_name):\n",
    "    # Diversity = number of countries reviewer has sampled wine from / number of countries that produce wine\n",
    "    # Find how many unique countried the reviewer has sampled wine from\n",
    "    unique_countries = len(df.loc[df['taster_name'] == taster_name, 'country'].value_counts())\n",
    "    # Calculate the percentage\n",
    "    return round(unique_countries/total_countries*100,0)"
   ]
  },
  {
   "cell_type": "markdown",
   "metadata": {},
   "source": [
    "#### Calculate Word Usage"
   ]
  },
  {
   "cell_type": "code",
   "execution_count": 12,
   "metadata": {},
   "outputs": [],
   "source": [
    "# Word usage comes in three vareties: Curt, Average, and Wordy\n",
    "# Curt = average word use is in the bottom 25% of reviewers\n",
    "# Average = average word use is in the middle 50% of reviewers\n",
    "# Wordy = average word use is in the top 25% of reviewers\n",
    "\n",
    "# First, we need to add a column to our data frame that calculates the number of words per review\n",
    "df['word count'] = df['description'].str.count(' ') + 1\n",
    "\n",
    "\n",
    "# We start with a blank list\n",
    "avg_review_lengths = []\n",
    "\n",
    "# For each reviewer, we calculate their average word use and append it to our blank list\n",
    "for reviewer in reviewers:\n",
    "    ind_avg = df.loc[df['taster_name'] == reviewer, 'word count'].mean()\n",
    "    avg_review_lengths.append(ind_avg)\n",
    "\n",
    "# Calculate the 25th and 75th percentiles for word usage\n",
    "word_25 = np.percentile(avg_review_lengths,25)\n",
    "word_75 = np.percentile(avg_review_lengths,75)    \n",
    "\n",
    "def review_style(taster_name):\n",
    "    # Calculate the average words used per review for the reviewer\n",
    "    reviewer_words = df.loc[df['taster_name'] == taster_name, 'word count'].mean()\n",
    "    \n",
    "    # Find out where they lie compared to the others and return the appropriate value\n",
    "    if reviewer_words < word_25:\n",
    "        review_style = 'Curt'\n",
    "    elif word_25 <= reviewer_words < word_75:\n",
    "        review_style = 'Average'\n",
    "    else:\n",
    "        review_style = 'Wordy'\n",
    "        \n",
    "    return review_style"
   ]
  },
  {
   "cell_type": "markdown",
   "metadata": {},
   "source": [
    "#### Define Status"
   ]
  },
  {
   "cell_type": "code",
   "execution_count": 13,
   "metadata": {},
   "outputs": [],
   "source": [
    "# Status comes in three varities: Novice, Experienced, and Power Reviewer\n",
    "# Novice = less than or equal to 1,000 reviews\n",
    "# Experienced = Between 1,001 and 5,000 reviews\n",
    "# Power Reviewer = 5,000 or more reviews \n",
    "\n",
    "def status(taster_name):\n",
    "    # Calculate the number of reviews\n",
    "    reviews = num_reviews(taster_name)\n",
    "    \n",
    "    # Match the number of reviews to the correct Status tier\n",
    "    if 0 < reviews <= 1000:\n",
    "        rev_type = 'Novice'\n",
    "    elif 1000 < reviews < 5000:\n",
    "        rev_type = 'Experienced'\n",
    "    else:\n",
    "        rev_type = 'Power Reviewer'\n",
    "    return rev_type"
   ]
  },
  {
   "cell_type": "markdown",
   "metadata": {},
   "source": [
    "#### Calculate Scoring Stlye"
   ]
  },
  {
   "cell_type": "code",
   "execution_count": 14,
   "metadata": {},
   "outputs": [],
   "source": [
    "# Scoring style comes in three varieties: Tough, Fair, and Generous\n",
    "# Tough = average score of reviews is in the bottom 25% of reviewers\n",
    "# Fair = average score of reviews is in the middle 50% of reviewers\n",
    "# Generous = average score of reviews is in the top 25% of reviewers\n",
    "\n",
    "# Start with a blank list\n",
    "avg_score_by_user = []\n",
    "\n",
    "# Calculate the average score for each reviewer and append it to the blank list\n",
    "for reviewer in reviewers:\n",
    "    ind_score = df.loc[df['taster_name'] == reviewer, 'points'].mean()\n",
    "    avg_score_by_user.append(ind_score)\n",
    "\n",
    "# Calculate the 25th and 75th percentiles for score\n",
    "score_25 = np.percentile(avg_score_by_user,25)\n",
    "score_75 = np.percentile(avg_score_by_user,75)\n",
    "\n",
    "def scoring_style(taster_name):\n",
    "    # Calculate the average score given by the reviewer\n",
    "    avg_points = avg_score(taster_name)\n",
    "    \n",
    "    # Find out where they lie compared to the others and return the appropriate value\n",
    "    if avg_points < score_25:\n",
    "        score_style = 'Tough'\n",
    "    elif score_25 <= avg_points < score_25:\n",
    "        score_style = 'Fair'\n",
    "    else:\n",
    "        score_style = 'Generous'\n",
    "    return score_style"
   ]
  },
  {
   "cell_type": "markdown",
   "metadata": {},
   "source": [
    "#### Calculate Average Price of Wine Reviewed"
   ]
  },
  {
   "cell_type": "code",
   "execution_count": 15,
   "metadata": {},
   "outputs": [],
   "source": [
    "def avg_price(taster_name):\n",
    "    # Calculate the number of reviews done by the reviewer\n",
    "    reviews = num_reviews(taster_name)\n",
    "    # Calculate the total price of all wines reviewed by the reviewer\n",
    "    total_price = df.loc[df['taster_name'] == taster_name, 'price'].sum()\n",
    "    # Do the division to find the average price per review\n",
    "    average_price = round(total_price / reviews, 2)\n",
    "    return average_price"
   ]
  },
  {
   "cell_type": "markdown",
   "metadata": {},
   "source": [
    "#### Find the number of wines reviewed by country"
   ]
  },
  {
   "cell_type": "code",
   "execution_count": 16,
   "metadata": {},
   "outputs": [],
   "source": [
    "def reviews_by_country(taster_name):\n",
    "    country_list = list(df.loc[df['taster_name'] == taster_name, 'country'])\n",
    "    countries = {}\n",
    "    for country in country_list:\n",
    "        if country in countries:\n",
    "            countries[country] = countries[country] + 1\n",
    "        else:\n",
    "            countries[country] = 1\n",
    "    return countries"
   ]
  },
  {
   "cell_type": "markdown",
   "metadata": {},
   "source": [
    "### Calculating and Storing Metrics\n",
    "\n",
    "Now that we've defined how we'll calculate each metric, we need to gather the information for each reviewer and store it somewhere. To do this, we will use a dictionary of dictionaries. "
   ]
  },
  {
   "cell_type": "code",
   "execution_count": 21,
   "metadata": {},
   "outputs": [],
   "source": [
    "# First, we'll start with a blank dictionary\n",
    "reviewer_info = {}\n",
    "\n",
    "# For each reviewer, we'll calculate their metrics and add them to their dictionary\n",
    "for reviewer in reviewers:\n",
    "    reviewer_info[reviewer] = {'Twitter handle':get_twitter(reviewer),\n",
    "                                     'Number of Reviews':num_reviews(reviewer),\n",
    "                                     'Average Score':avg_score(reviewer),\n",
    "                                     'Highest Score':high_score(reviewer),\n",
    "                                     'Lowest Score':low_score(reviewer),\n",
    "                                     'Perfect Score Percent':perf_score_rate(reviewer),\n",
    "                                     'Diversity Percent':diversity_score(reviewer),\n",
    "                                     'Word Usage':review_style(reviewer),\n",
    "                                     'Status':status(reviewer),\n",
    "                                     'Scoring Style':scoring_style(reviewer),\n",
    "                                     'Review Count by Country':reviews_by_country(reviewer),\n",
    "                                     'Average Price of Wine Reviewed':avg_price(reviewer)}"
   ]
  },
  {
   "cell_type": "markdown",
   "metadata": {},
   "source": [
    "Our dictionary has been completed and we can search it to retrieve information for each reviewer. However, it may be more useful to convert this dictionary to a data frame. That way, we can see the metrics for each reviewer which will allow for easier comparisons between different indivduals. "
   ]
  },
  {
   "cell_type": "code",
   "execution_count": 18,
   "metadata": {},
   "outputs": [],
   "source": [
    "# Create a new data frame using our reviewer_info dictionary\n",
    "# We will use the transpose method so that each column corresponds to a single reviewer \n",
    "reviewer_data = pd.DataFrame(reviewer_info).transpose()"
   ]
  },
  {
   "cell_type": "markdown",
   "metadata": {},
   "source": [
    "We can check the head of our data frame to ensure that it looks ok."
   ]
  },
  {
   "cell_type": "code",
   "execution_count": 20,
   "metadata": {},
   "outputs": [
    {
     "data": {
      "text/html": [
       "<div>\n",
       "<style scoped>\n",
       "    .dataframe tbody tr th:only-of-type {\n",
       "        vertical-align: middle;\n",
       "    }\n",
       "\n",
       "    .dataframe tbody tr th {\n",
       "        vertical-align: top;\n",
       "    }\n",
       "\n",
       "    .dataframe thead th {\n",
       "        text-align: right;\n",
       "    }\n",
       "</style>\n",
       "<table border=\"1\" class=\"dataframe\">\n",
       "  <thead>\n",
       "    <tr style=\"text-align: right;\">\n",
       "      <th></th>\n",
       "      <th>Twitter handle</th>\n",
       "      <th>Number of Reviews</th>\n",
       "      <th>Average Score</th>\n",
       "      <th>Highest Score</th>\n",
       "      <th>Lowest Score</th>\n",
       "      <th>Perfect Score Percent</th>\n",
       "      <th>Diversity Percent</th>\n",
       "      <th>Word Usage</th>\n",
       "      <th>Status</th>\n",
       "      <th>Scoring Style</th>\n",
       "      <th>Review Count by Country</th>\n",
       "      <th>Average Price of Wine Reviewed</th>\n",
       "    </tr>\n",
       "  </thead>\n",
       "  <tbody>\n",
       "    <tr>\n",
       "      <td>Paul Gregutt</td>\n",
       "      <td>@paulgwine</td>\n",
       "      <td>9494</td>\n",
       "      <td>89.09</td>\n",
       "      <td>100</td>\n",
       "      <td>80</td>\n",
       "      <td>0.0211</td>\n",
       "      <td>7</td>\n",
       "      <td>Average</td>\n",
       "      <td>Power Reviewer</td>\n",
       "      <td>Generous</td>\n",
       "      <td>{'US': 9268, 'France': 34, 'Canada': 184, 'Ita...</td>\n",
       "      <td>33.65</td>\n",
       "    </tr>\n",
       "    <tr>\n",
       "      <td>Michael Schachner</td>\n",
       "      <td>@wineschach</td>\n",
       "      <td>14941</td>\n",
       "      <td>86.91</td>\n",
       "      <td>98</td>\n",
       "      <td>80</td>\n",
       "      <td>0</td>\n",
       "      <td>16</td>\n",
       "      <td>Average</td>\n",
       "      <td>Power Reviewer</td>\n",
       "      <td>Tough</td>\n",
       "      <td>{'Argentina': 3752, 'Chile': 4280, 'Spain': 65...</td>\n",
       "      <td>25.23</td>\n",
       "    </tr>\n",
       "    <tr>\n",
       "      <td>Roger Voss</td>\n",
       "      <td>@vossroger</td>\n",
       "      <td>20167</td>\n",
       "      <td>88.61</td>\n",
       "      <td>100</td>\n",
       "      <td>80</td>\n",
       "      <td>0.0496</td>\n",
       "      <td>9</td>\n",
       "      <td>Curt</td>\n",
       "      <td>Power Reviewer</td>\n",
       "      <td>Generous</td>\n",
       "      <td>{'Austria': 831, 'Portugal': 4842, 'France': 1...</td>\n",
       "      <td>38.65</td>\n",
       "    </tr>\n",
       "    <tr>\n",
       "      <td>Lauren Buzzeo</td>\n",
       "      <td>@laurbuzz</td>\n",
       "      <td>1711</td>\n",
       "      <td>87.57</td>\n",
       "      <td>95</td>\n",
       "      <td>81</td>\n",
       "      <td>0</td>\n",
       "      <td>10</td>\n",
       "      <td>Wordy</td>\n",
       "      <td>Experienced</td>\n",
       "      <td>Generous</td>\n",
       "      <td>{'South Africa': 905, 'Israel': 198, 'France':...</td>\n",
       "      <td>24.49</td>\n",
       "    </tr>\n",
       "    <tr>\n",
       "      <td>Joe Czerwinski</td>\n",
       "      <td>@JoeCz</td>\n",
       "      <td>5006</td>\n",
       "      <td>88.54</td>\n",
       "      <td>100</td>\n",
       "      <td>80</td>\n",
       "      <td>0.02</td>\n",
       "      <td>16</td>\n",
       "      <td>Average</td>\n",
       "      <td>Power Reviewer</td>\n",
       "      <td>Generous</td>\n",
       "      <td>{'New Zealand': 1270, 'US': 102, 'France': 112...</td>\n",
       "      <td>35.2</td>\n",
       "    </tr>\n",
       "  </tbody>\n",
       "</table>\n",
       "</div>"
      ],
      "text/plain": [
       "                  Twitter handle Number of Reviews Average Score  \\\n",
       "Paul Gregutt         @paulgwine               9494         89.09   \n",
       "Michael Schachner    @wineschach             14941         86.91   \n",
       "Roger Voss            @vossroger             20167         88.61   \n",
       "Lauren Buzzeo          @laurbuzz              1711         87.57   \n",
       "Joe Czerwinski            @JoeCz              5006         88.54   \n",
       "\n",
       "                  Highest Score Lowest Score Perfect Score Percent  \\\n",
       "Paul Gregutt                100           80                0.0211   \n",
       "Michael Schachner            98           80                     0   \n",
       "Roger Voss                  100           80                0.0496   \n",
       "Lauren Buzzeo                95           81                     0   \n",
       "Joe Czerwinski              100           80                  0.02   \n",
       "\n",
       "                  Diversity Percent Word Usage          Status Scoring Style  \\\n",
       "Paul Gregutt                      7    Average  Power Reviewer      Generous   \n",
       "Michael Schachner                16    Average  Power Reviewer         Tough   \n",
       "Roger Voss                        9       Curt  Power Reviewer      Generous   \n",
       "Lauren Buzzeo                    10      Wordy     Experienced      Generous   \n",
       "Joe Czerwinski                   16    Average  Power Reviewer      Generous   \n",
       "\n",
       "                                             Review Count by Country  \\\n",
       "Paul Gregutt       {'US': 9268, 'France': 34, 'Canada': 184, 'Ita...   \n",
       "Michael Schachner  {'Argentina': 3752, 'Chile': 4280, 'Spain': 65...   \n",
       "Roger Voss         {'Austria': 831, 'Portugal': 4842, 'France': 1...   \n",
       "Lauren Buzzeo      {'South Africa': 905, 'Israel': 198, 'France':...   \n",
       "Joe Czerwinski     {'New Zealand': 1270, 'US': 102, 'France': 112...   \n",
       "\n",
       "                  Average Price of Wine Reviewed  \n",
       "Paul Gregutt                               33.65  \n",
       "Michael Schachner                          25.23  \n",
       "Roger Voss                                 38.65  \n",
       "Lauren Buzzeo                              24.49  \n",
       "Joe Czerwinski                              35.2  "
      ]
     },
     "execution_count": 20,
     "metadata": {},
     "output_type": "execute_result"
    }
   ],
   "source": [
    "reviewer_data.head()"
   ]
  },
  {
   "cell_type": "markdown",
   "metadata": {},
   "source": [
    "### Interaction\n",
    "\n",
    "We want the user to be able to interact with our code. First, we will create a function that gives the user information about a specific reviewer. We will then create a way to ask the user which reviewer they want to learn more about."
   ]
  },
  {
   "cell_type": "code",
   "execution_count": 23,
   "metadata": {},
   "outputs": [],
   "source": [
    "# Create a function that returns information for a specified reviewer\n",
    "def get_info(reviewer):\n",
    "    if reviewer in reviewers:\n",
    "        for i in reviewer_info[reviewer]:\n",
    "            print(i+': ', reviewer_info[reviewer][i])\n",
    "    else:\n",
    "        print('Sorry, that reviewer is not in our database')"
   ]
  },
  {
   "cell_type": "markdown",
   "metadata": {},
   "source": [
    "We will test our get_info() function. Any user can use this function to get the information on a specific reviewer."
   ]
  },
  {
   "cell_type": "code",
   "execution_count": 25,
   "metadata": {},
   "outputs": [
    {
     "name": "stdout",
     "output_type": "stream",
     "text": [
      "Twitter handle:  @laurbuzz\n",
      "Number of Reviews:  1711\n",
      "Average Score:  87.57\n",
      "Highest Score:  95\n",
      "Lowest Score:  81\n",
      "Perfect Score Percent:  0.0\n",
      "Diversity Percent:  10.0\n",
      "Word Usage:  Wordy\n",
      "Status:  Experienced\n",
      "Scoring Style:  Generous\n",
      "Review Count by Country:  {'South Africa': 905, 'Israel': 198, 'France': 586, 'US': 19, 'Canada': 1, 'Portugal': 1, 'Spain': 1}\n",
      "Average Price of Wine Reviewed:  24.49\n"
     ]
    }
   ],
   "source": [
    "get_info('Lauren Buzzeo')"
   ]
  },
  {
   "cell_type": "markdown",
   "metadata": {},
   "source": [
    "Finally, we can test out the user interaction that we created."
   ]
  },
  {
   "cell_type": "code",
   "execution_count": 24,
   "metadata": {},
   "outputs": [
    {
     "name": "stdout",
     "output_type": "stream",
     "text": [
      "Here is a list of our reviewers:\n",
      "\n",
      "\n",
      "Paul Gregutt\n",
      "Michael Schachner\n",
      "Roger Voss\n",
      "Lauren Buzzeo\n",
      "Joe Czerwinski\n",
      "Anne Krebiehl MW\n",
      "Kerin O’Keefe\n",
      "Virginie Boone\n",
      "Anna Lee C. Iijima\n",
      "Jim Gordon\n",
      "Sean P. Sullivan\n",
      "Matt Kettmann\n",
      "Jeff Jenssen\n",
      "Susan Kostrzewa\n",
      "Mike DeSimone\n",
      "Christina Pickard\n",
      "Carrie Dykes\n",
      "Fiona Adams\n",
      "Alexander Peartree\n",
      "\n",
      "\n",
      "Which reviewer would you like to analyze? Roger Voss\n",
      "\n",
      "\n",
      "Here is some information about Roger Voss\n",
      "\n",
      "\n",
      "Twitter handle:  @vossroger\n",
      "Number of Reviews:  20167\n",
      "Average Score:  88.61\n",
      "Highest Score:  100\n",
      "Lowest Score:  80\n",
      "Perfect Score Percent:  0.049600000000000005\n",
      "Diversity Percent:  9.0\n",
      "Word Usage:  Curt\n",
      "Status:  Power Reviewer\n",
      "Scoring Style:  Generous\n",
      "Review Count by Country:  {'Austria': 831, 'Portugal': 4842, 'France': 14390, 'Italy': 85, 'South Africa': 17, 'US': 2}\n",
      "Average Price of Wine Reviewed:  38.65\n"
     ]
    }
   ],
   "source": [
    "# Create an interaction with the user that asks them which reviewer they want to learn more about\n",
    "print('Here is a list of our reviewers:')\n",
    "print('\\n')\n",
    "for i in reviewers:\n",
    "    print(i)\n",
    "print('\\n')\n",
    "name = input('Which reviewer would you like to analyze? ')\n",
    "print('\\n')\n",
    "print('Here is some information about {}'.format(name))\n",
    "print('\\n')\n",
    "get_info(name)"
   ]
  },
  {
   "cell_type": "markdown",
   "metadata": {},
   "source": [
    "### The End. Thanks!"
   ]
  }
 ],
 "metadata": {
  "kernelspec": {
   "display_name": "Python 3",
   "language": "python",
   "name": "python3"
  },
  "language_info": {
   "codemirror_mode": {
    "name": "ipython",
    "version": 3
   },
   "file_extension": ".py",
   "mimetype": "text/x-python",
   "name": "python",
   "nbconvert_exporter": "python",
   "pygments_lexer": "ipython3",
   "version": "3.8.5"
  }
 },
 "nbformat": 4,
 "nbformat_minor": 4
}
