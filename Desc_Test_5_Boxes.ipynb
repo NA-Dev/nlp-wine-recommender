{
 "cells": [
  {
   "cell_type": "code",
   "execution_count": 294,
   "metadata": {},
   "outputs": [],
   "source": [
    "# Import Libraries\n",
    "import csv\n",
    "import pandas as pd \n",
    "import numpy as np\n",
    "import nltk\n",
    "import os\n",
    "import nltk.corpus\n",
    "from nltk.tokenize import word_tokenize\n",
    "from nltk.probability import FreqDist\n",
    "from nltk.stem import PorterStemmer\n",
    "from nltk.stem import WordNetLemmatizer\n",
    "\n",
    "# Import dataset\n",
    "data = pd.read_csv('Wine V2.csv')"
   ]
  },
  {
   "cell_type": "code",
   "execution_count": 295,
   "metadata": {},
   "outputs": [
    {
     "data": {
      "text/plain": [
       "\"Much like the regular bottling from 2012, this comes across as rather rough and tannic, with rustic, earthy, herbal characteristics. Nonetheless, if you think of it as a pleasantly unfussy country wine, it's a good companion to a hearty winter stew.\""
      ]
     },
     "execution_count": 295,
     "metadata": {},
     "output_type": "execute_result"
    }
   ],
   "source": [
    "# Only take the first 5 to test out text mining.\n",
    "data = data.head(1000)\n",
    "data['description'][4]"
   ]
  },
  {
   "cell_type": "code",
   "execution_count": 296,
   "metadata": {},
   "outputs": [
    {
     "name": "stdout",
     "output_type": "stream",
     "text": [
      "0      Aromas include tropical fruit, broom, brimston...\n",
      "1      This is ripe and fruity, a wine that is smooth...\n",
      "2      Tart and snappy, the flavors of lime flesh and...\n",
      "3      Pineapple rind, lemon pith and orange blossom ...\n",
      "4      Much like the regular bottling from 2012, this...\n",
      "                             ...                        \n",
      "995    Edèlmio is a sophisticated and toasty blend of...\n",
      "996    Here's a Syrah with bursting aromas of mature ...\n",
      "997    Blended from a patchwork of old vineyards thro...\n",
      "998    Rich in the mouth, this creamy and textural wi...\n",
      "999    Creamy and textural, this brings on a nice mix...\n",
      "Name: description, Length: 1000, dtype: object\n"
     ]
    },
    {
     "data": {
      "text/plain": [
       "\"Much like the regular bottling from 2012, this comes across as rather rough and tannic, with rustic, earthy, herbal characteristics. Nonetheless, if you think of it as a pleasantly unfussy country wine, it's a good companion to a hearty winter stew.\""
      ]
     },
     "execution_count": 296,
     "metadata": {},
     "output_type": "execute_result"
    }
   ],
   "source": [
    "# Identify a single column\n",
    "print(data['description'])\n",
    "\n",
    "# Print individual entries. \n",
    "data['description'][0]\n",
    "data['description'][1]\n",
    "data['description'][2]\n",
    "data['description'][3]\n",
    "data['description'][4]"
   ]
  },
  {
   "cell_type": "code",
   "execution_count": 297,
   "metadata": {
    "collapsed": true,
    "jupyter": {
     "outputs_hidden": true
    }
   },
   "outputs": [
    {
     "name": "stderr",
     "output_type": "stream",
     "text": [
      "/Users/amandaAmanda/opt/anaconda3/lib/python3.7/site-packages/ipykernel_launcher.py:4: SettingWithCopyWarning: \n",
      "A value is trying to be set on a copy of a slice from a DataFrame\n",
      "\n",
      "See the caveats in the documentation: https://pandas.pydata.org/pandas-docs/stable/user_guide/indexing.html#returning-a-view-versus-a-copy\n",
      "  after removing the cwd from sys.path.\n"
     ]
    }
   ],
   "source": [
    "# Break up the sentences into lists of individual words\n",
    "for i in range(len(data)):\n",
    "    text = data['description'][i]\n",
    "    data['description'][i] = word_tokenize(text.lower())"
   ]
  },
  {
   "cell_type": "code",
   "execution_count": 298,
   "metadata": {},
   "outputs": [
    {
     "data": {
      "text/plain": [
       "0      [aromas, include, tropical, fruit, ,, broom, ,...\n",
       "1      [this, is, ripe, and, fruity, ,, a, wine, that...\n",
       "2      [tart, and, snappy, ,, the, flavors, of, lime,...\n",
       "3      [pineapple, rind, ,, lemon, pith, and, orange,...\n",
       "4      [much, like, the, regular, bottling, from, 201...\n",
       "                             ...                        \n",
       "995    [edèlmio, is, a, sophisticated, and, toasty, b...\n",
       "996    [here, 's, a, syrah, with, bursting, aromas, o...\n",
       "997    [blended, from, a, patchwork, of, old, vineyar...\n",
       "998    [rich, in, the, mouth, ,, this, creamy, and, t...\n",
       "999    [creamy, and, textural, ,, this, brings, on, a...\n",
       "Name: description, Length: 1000, dtype: object"
      ]
     },
     "execution_count": 298,
     "metadata": {},
     "output_type": "execute_result"
    }
   ],
   "source": [
    "# Check that everything 1) was make lowercase, 2) was split up into lists.\n",
    "data['description']"
   ]
  },
  {
   "cell_type": "code",
   "execution_count": 301,
   "metadata": {
    "collapsed": true,
    "jupyter": {
     "outputs_hidden": true
    }
   },
   "outputs": [
    {
     "name": "stderr",
     "output_type": "stream",
     "text": [
      "/Users/amandaAmanda/opt/anaconda3/lib/python3.7/site-packages/ipykernel_launcher.py:5: SettingWithCopyWarning: \n",
      "A value is trying to be set on a copy of a slice from a DataFrame\n",
      "\n",
      "See the caveats in the documentation: https://pandas.pydata.org/pandas-docs/stable/user_guide/indexing.html#returning-a-view-versus-a-copy\n",
      "  \"\"\"\n"
     ]
    }
   ],
   "source": [
    "from nltk.corpus import stopwords\n",
    "a = set(stopwords.words(\"english\"))\n",
    "\n",
    "for i in range(len(data)):\n",
    "    data['description'][i] = [x for x in data['description'][i] if x not in a]"
   ]
  },
  {
   "cell_type": "code",
   "execution_count": 302,
   "metadata": {},
   "outputs": [
    {
     "data": {
      "text/plain": [
       "['tart',\n",
       " 'snappy',\n",
       " ',',\n",
       " 'flavors',\n",
       " 'lime',\n",
       " 'flesh',\n",
       " 'rind',\n",
       " 'dominate',\n",
       " '.',\n",
       " 'green',\n",
       " 'pineapple',\n",
       " 'pokes',\n",
       " ',',\n",
       " 'crisp',\n",
       " 'acidity',\n",
       " 'underscoring',\n",
       " 'flavors',\n",
       " '.',\n",
       " 'wine',\n",
       " 'stainless-steel',\n",
       " 'fermented',\n",
       " '.']"
      ]
     },
     "execution_count": 302,
     "metadata": {},
     "output_type": "execute_result"
    }
   ],
   "source": [
    "# Test to make sure each point had stop words taken out. \n",
    "data['description'][2]"
   ]
  },
  {
   "cell_type": "code",
   "execution_count": 303,
   "metadata": {
    "collapsed": true,
    "jupyter": {
     "outputs_hidden": true
    }
   },
   "outputs": [
    {
     "name": "stderr",
     "output_type": "stream",
     "text": [
      "/Users/amandaAmanda/opt/anaconda3/lib/python3.7/site-packages/ipykernel_launcher.py:11: SettingWithCopyWarning: \n",
      "A value is trying to be set on a copy of a slice from a DataFrame\n",
      "\n",
      "See the caveats in the documentation: https://pandas.pydata.org/pandas-docs/stable/user_guide/indexing.html#returning-a-view-versus-a-copy\n",
      "  # This is added back by InteractiveShellApp.init_path()\n"
     ]
    }
   ],
   "source": [
    "# Part-of-Speech Tagging\n",
    "# Definitions: https://www.guru99.com/pos-tagging-chunking-nltk.html\n",
    "# NN is the main part of speech we want to keep here. Everything else can go. \n",
    "# - NN = singular noun\n",
    "\n",
    "# Add the type of speech to each word in the list. \n",
    "for i in range(len(data)):\n",
    "    words = []\n",
    "    for token in data['description'][i]:\n",
    "        words.append(nltk.pos_tag([token]))\n",
    "        data['description'][i] = words       "
   ]
  },
  {
   "cell_type": "code",
   "execution_count": 304,
   "metadata": {
    "collapsed": true,
    "jupyter": {
     "outputs_hidden": true
    }
   },
   "outputs": [
    {
     "name": "stderr",
     "output_type": "stream",
     "text": [
      "/Users/amandaAmanda/opt/anaconda3/lib/python3.7/site-packages/ipykernel_launcher.py:7: SettingWithCopyWarning: \n",
      "A value is trying to be set on a copy of a slice from a DataFrame\n",
      "\n",
      "See the caveats in the documentation: https://pandas.pydata.org/pandas-docs/stable/user_guide/indexing.html#returning-a-view-versus-a-copy\n",
      "  import sys\n"
     ]
    }
   ],
   "source": [
    "for i in range(len(data)):\n",
    "    new_list = []\n",
    "    final_set = []\n",
    "    for tag in range(len(data['description'][i])):\n",
    "        if data['description'][i][tag][0][1] == 'NN':\n",
    "            final_set.append(data['description'][i][tag][0][0])\n",
    "    data['description'][i] = final_set"
   ]
  },
  {
   "cell_type": "code",
   "execution_count": 305,
   "metadata": {},
   "outputs": [
    {
     "data": {
      "text/plain": [
       "['blend',\n",
       " 'nero',\n",
       " \"d'avola\",\n",
       " 'syrah',\n",
       " 'savory',\n",
       " 'meat',\n",
       " 'berry',\n",
       " 'cassis',\n",
       " 'tobacco',\n",
       " 'wet',\n",
       " 'earth',\n",
       " 'touch',\n",
       " 'almond',\n",
       " 'bitterness',\n",
       " 'finish']"
      ]
     },
     "execution_count": 305,
     "metadata": {},
     "output_type": "execute_result"
    }
   ],
   "source": [
    "data['description'][50]"
   ]
  },
  {
   "cell_type": "code",
   "execution_count": 279,
   "metadata": {},
   "outputs": [
    {
     "data": {
      "text/plain": [
       "['ripe', 'fruity', 'wine', 'smooth', 'firm', 'juicy', 'berry', 'acidity']"
      ]
     },
     "execution_count": 279,
     "metadata": {},
     "output_type": "execute_result"
    }
   ],
   "source": [
    "# Add Stemmer\n",
    "# Words like \"Earthy\" and \"Earth [Flavors]\" should match, \"Almondy\" and \"Almond\", etc. "
   ]
  },
  {
   "cell_type": "code",
   "execution_count": 306,
   "metadata": {},
   "outputs": [
    {
     "data": {
      "text/plain": [
       "[('wine', 579),\n",
       " ('fruit', 345),\n",
       " ('palate', 331),\n",
       " ('finish', 281),\n",
       " ('acidity', 260),\n",
       " ('drink', 245),\n",
       " ('ripe', 219),\n",
       " ('cherry', 203),\n",
       " ('%', 151),\n",
       " ('spice', 141),\n",
       " ('berry', 127),\n",
       " ('oak', 115),\n",
       " ('plum', 107),\n",
       " ('apple', 106),\n",
       " ('citrus', 106),\n",
       " ('dry', 104),\n",
       " ('sweet', 102),\n",
       " ('crisp', 97),\n",
       " ('blend', 96),\n",
       " ('texture', 93),\n",
       " ('light', 93),\n",
       " ('cabernet', 83),\n",
       " ('blackberry', 82),\n",
       " ('pepper', 82),\n",
       " ('bright', 81)]"
      ]
     },
     "execution_count": 306,
     "metadata": {},
     "output_type": "execute_result"
    }
   ],
   "source": [
    "# Add Frequency Count\n",
    "# This will be interesting to see what words are most often used to describe the wines. \n",
    "\n",
    "# 1) Make one big list of all the lists. \n",
    "full_list = []\n",
    "for i in range(len(data['description'])):\n",
    "    for j in range(len(data['description'][i])):\n",
    "        full_list.append(data['description'][i][j])\n",
    "\n",
    "# 2) Look at the top 25 words frequently used as descriptors\n",
    "token_freq = FreqDist(full_list)\n",
    "top_25_freq = token_freq.most_common(25)\n",
    "top_25_freq"
   ]
  }
 ],
 "metadata": {
  "kernelspec": {
   "display_name": "Python 3",
   "language": "python",
   "name": "python3"
  },
  "language_info": {
   "codemirror_mode": {
    "name": "ipython",
    "version": 3
   },
   "file_extension": ".py",
   "mimetype": "text/x-python",
   "name": "python",
   "nbconvert_exporter": "python",
   "pygments_lexer": "ipython3",
   "version": "3.8.5"
  }
 },
 "nbformat": 4,
 "nbformat_minor": 4
}
